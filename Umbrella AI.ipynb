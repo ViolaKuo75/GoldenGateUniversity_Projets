{
 "cells": [
  {
   "cell_type": "code",
   "execution_count": null,
   "id": "ab1cc213",
   "metadata": {},
   "outputs": [],
   "source": [
    "# Umbrella AI\n",
    "import numpy as np\n",
    "import matplotlib.pyplot as plt\n",
    "import pandas as pd\n",
    "import seaborn as sns\n",
    "import math    \n",
    "import operator\n",
    "#"
   ]
  },
  {
   "cell_type": "code",
   "execution_count": 2,
   "id": "aefb5a84",
   "metadata": {},
   "outputs": [],
   "source": [
    "# Dropping a graph from the schema\n",
    "\n",
    "#print(conn.gsql('''USE GLOBAL DROP GRAPH Umbrella_AI''', options=[]))\n",
    "\n",
    "# print(conn.gsql('''USE GLOBAL DROP ALL''', options=[]))"
   ]
  },
  {
   "cell_type": "code",
   "execution_count": 3,
   "id": "6069c8aa",
   "metadata": {},
   "outputs": [
    {
     "name": "stdout",
     "output_type": "stream",
     "text": [
      "Package                            Version\r\n",
      "---------------------------------- --------------------\r\n",
      "absl-py                            1.3.0\r\n",
      "alabaster                          0.7.12\r\n",
      "anaconda-client                    1.9.0\r\n",
      "anaconda-navigator                 2.3.2\r\n",
      "anaconda-project                   0.10.1\r\n",
      "anyio                              2.2.0\r\n",
      "appdirs                            1.4.4\r\n",
      "applaunchservices                  0.2.1\r\n",
      "appnope                            0.1.2\r\n",
      "appscript                          1.1.2\r\n",
      "argh                               0.26.2\r\n",
      "argon2-cffi                        20.1.0\r\n",
      "arrow                              0.13.1\r\n",
      "asn1crypto                         1.4.0\r\n",
      "astroid                            2.6.6\r\n",
      "astropy                            4.3.1\r\n",
      "astunparse                         1.6.3\r\n",
      "async-generator                    1.10\r\n",
      "atomicwrites                       1.4.0\r\n",
      "attrs                              21.2.0\r\n",
      "autopep8                           1.5.7\r\n",
      "Babel                              2.9.1\r\n",
      "backcall                           0.2.0\r\n",
      "backports.functools-lru-cache      1.6.4\r\n",
      "backports.shutil-get-terminal-size 1.0.0\r\n",
      "backports.tempfile                 1.0\r\n",
      "backports.weakref                  1.0.post1\r\n",
      "beautifulsoup4                     4.10.0\r\n",
      "binaryornot                        0.4.4\r\n",
      "bitarray                           2.3.0\r\n",
      "bkcharts                           0.2\r\n",
      "black                              19.10b0\r\n",
      "bleach                             4.0.0\r\n",
      "bokeh                              2.4.1\r\n",
      "boto                               2.49.0\r\n",
      "Bottleneck                         1.3.2\r\n",
      "brewer2mpl                         1.4.1\r\n",
      "brotlipy                           0.7.0\r\n",
      "cached-property                    1.5.2\r\n",
      "cachetools                         5.2.0\r\n",
      "certifi                            2021.10.8\r\n",
      "cffi                               1.14.6\r\n",
      "chardet                            4.0.0\r\n",
      "charset-normalizer                 2.0.4\r\n",
      "click                              8.0.3\r\n",
      "cloudpickle                        2.0.0\r\n",
      "clyent                             1.2.2\r\n",
      "colorama                           0.4.4\r\n",
      "conda                              4.13.0\r\n",
      "conda-build                        3.21.5\r\n",
      "conda-content-trust                0+unknown\r\n",
      "conda-pack                         0.6.0\r\n",
      "conda-package-handling             1.7.3\r\n",
      "conda-repo-cli                     1.0.4\r\n",
      "conda-token                        0.3.0\r\n",
      "conda-verify                       3.4.2\r\n",
      "contextlib2                        0.6.0.post1\r\n",
      "cookiecutter                       1.7.2\r\n",
      "cryptography                       3.4.8\r\n",
      "cycler                             0.10.0\r\n",
      "Cython                             0.29.24\r\n",
      "cytoolz                            0.11.0\r\n",
      "daal4py                            2021.3.0\r\n",
      "dask                               2021.10.0\r\n",
      "DateTime                           4.5\r\n",
      "debugpy                            1.4.1\r\n",
      "decorator                          5.1.0\r\n",
      "defusedxml                         0.7.1\r\n",
      "diff-match-patch                   20200713\r\n",
      "distributed                        2021.10.0\r\n",
      "docutils                           0.17.1\r\n",
      "entrypoints                        0.3\r\n",
      "et-xmlfile                         1.1.0\r\n",
      "fastcache                          1.1.0\r\n",
      "filelock                           3.3.1\r\n",
      "flake8                             3.9.2\r\n",
      "Flask                              1.1.2\r\n",
      "flatbuffers                        22.12.6\r\n",
      "fonttools                          4.25.0\r\n",
      "fsspec                             2021.8.1\r\n",
      "future                             0.18.2\r\n",
      "gast                               0.4.0\r\n",
      "gevent                             21.8.0\r\n",
      "ggplot                             0.11.5\r\n",
      "glob2                              0.7\r\n",
      "gmpy2                              2.0.8\r\n",
      "google-auth                        2.15.0\r\n",
      "google-auth-oauthlib               0.4.6\r\n",
      "google-pasta                       0.2.0\r\n",
      "greenlet                           1.1.1\r\n",
      "grpcio                             1.51.1\r\n",
      "h5py                               3.2.1\r\n",
      "HeapDict                           1.0.1\r\n",
      "html5lib                           1.1\r\n",
      "huggingface-hub                    0.11.1\r\n",
      "idna                               3.2\r\n",
      "imagecodecs                        2021.8.26\r\n",
      "imageio                            2.9.0\r\n",
      "imagesize                          1.2.0\r\n",
      "importlib-metadata                 4.8.1\r\n",
      "inflection                         0.5.1\r\n",
      "iniconfig                          1.1.1\r\n",
      "intervaltree                       3.1.0\r\n",
      "ipykernel                          6.4.1\r\n",
      "ipython                            7.29.0\r\n",
      "ipython-genutils                   0.2.0\r\n",
      "ipywidgets                         7.6.5\r\n",
      "isort                              5.9.3\r\n",
      "itsdangerous                       2.0.1\r\n",
      "jdcal                              1.4.1\r\n",
      "jedi                               0.18.0\r\n",
      "Jinja2                             2.11.3\r\n",
      "jinja2-time                        0.2.0\r\n",
      "joblib                             1.1.0\r\n",
      "json5                              0.9.6\r\n",
      "jsonschema                         3.2.0\r\n",
      "jupyter                            1.0.0\r\n",
      "jupyter-client                     6.1.12\r\n",
      "jupyter-console                    6.4.0\r\n",
      "jupyter-core                       4.8.1\r\n",
      "jupyter-server                     1.4.1\r\n",
      "jupyterlab                         3.2.1\r\n",
      "jupyterlab-pygments                0.1.2\r\n",
      "jupyterlab-server                  2.8.2\r\n",
      "jupyterlab-widgets                 1.0.0\r\n",
      "keras                              2.11.0\r\n",
      "keyring                            23.1.0\r\n",
      "kiwisolver                         1.3.1\r\n",
      "lazy-object-proxy                  1.6.0\r\n",
      "libarchive-c                       2.9\r\n",
      "libclang                           14.0.6\r\n",
      "llvmlite                           0.37.0\r\n",
      "locket                             0.2.1\r\n",
      "lxml                               4.6.3\r\n",
      "Markdown                           3.4.1\r\n",
      "MarkupSafe                         1.1.1\r\n",
      "matplotlib                         3.4.3\r\n",
      "matplotlib-inline                  0.1.2\r\n",
      "mccabe                             0.6.1\r\n",
      "mistune                            0.8.4\r\n",
      "mkl-fft                            1.3.1\r\n",
      "mkl-random                         1.2.2\r\n",
      "mkl-service                        2.4.0\r\n",
      "mock                               4.0.3\r\n",
      "more-itertools                     8.10.0\r\n",
      "mpmath                             1.2.1\r\n",
      "msgpack                            1.0.2\r\n",
      "multipledispatch                   0.6.0\r\n",
      "munkres                            1.1.4\r\n",
      "mypy-extensions                    0.4.3\r\n",
      "navigator-updater                  0.2.1\r\n",
      "nbclassic                          0.2.6\r\n",
      "nbclient                           0.5.3\r\n",
      "nbconvert                          6.1.0\r\n",
      "nbformat                           5.1.3\r\n",
      "nest-asyncio                       1.5.1\r\n",
      "networkx                           2.6.3\r\n",
      "nltk                               3.6.5\r\n",
      "nose                               1.3.7\r\n",
      "notebook                           6.4.5\r\n",
      "numba                              0.54.1\r\n",
      "numexpr                            2.7.3\r\n",
      "numpy                              1.20.3\r\n",
      "numpydoc                           1.1.0\r\n",
      "oauthlib                           3.2.2\r\n",
      "olefile                            0.46\r\n",
      "openpyxl                           3.0.9\r\n",
      "opt-einsum                         3.3.0\r\n",
      "packaging                          21.0\r\n",
      "pandas                             1.3.4\r\n",
      "pandocfilters                      1.4.3\r\n",
      "parso                              0.8.2\r\n",
      "partd                              1.2.0\r\n",
      "path                               16.0.0\r\n",
      "pathlib2                           2.3.6\r\n",
      "pathspec                           0.7.0\r\n",
      "patsy                              0.5.2\r\n",
      "pep8                               1.7.1\r\n",
      "pexpect                            4.8.0\r\n",
      "pickleshare                        0.7.5\r\n",
      "Pillow                             8.4.0\r\n",
      "pip                                21.2.4\r\n",
      "pkginfo                            1.7.1\r\n",
      "plotly                             5.11.0\r\n",
      "pluggy                             0.13.1\r\n",
      "ply                                3.11\r\n",
      "poyo                               0.5.0\r\n",
      "prometheus-client                  0.11.0\r\n",
      "prompt-toolkit                     3.0.20\r\n",
      "protobuf                           3.19.6\r\n",
      "psutil                             5.8.0\r\n",
      "ptyprocess                         0.7.0\r\n",
      "py                                 1.10.0\r\n",
      "pyasn1                             0.4.8\r\n",
      "pyasn1-modules                     0.2.8\r\n",
      "pycodestyle                        2.7.0\r\n",
      "pycosat                            0.6.3\r\n",
      "pycparser                          2.20\r\n",
      "pycurl                             7.44.1\r\n",
      "pydocstyle                         6.1.1\r\n",
      "pydotplus                          2.0.2\r\n",
      "pyerfa                             2.0.0\r\n",
      "pyflakes                           2.3.1\r\n",
      "Pygments                           2.10.0\r\n",
      "PyJWT                              2.1.0\r\n",
      "pylint                             2.9.6\r\n",
      "pyls-spyder                        0.4.0\r\n",
      "pyodbc                             4.0.0-unsupported\r\n",
      "pyOpenSSL                          21.0.0\r\n",
      "pyparsing                          3.0.4\r\n",
      "pyrsistent                         0.18.0\r\n",
      "PySocks                            1.7.1\r\n",
      "pytest                             6.2.4\r\n",
      "python-dateutil                    2.8.2\r\n",
      "python-lsp-black                   1.0.0\r\n",
      "python-lsp-jsonrpc                 1.0.0\r\n",
      "python-lsp-server                  1.2.4\r\n",
      "python-slugify                     5.0.2\r\n",
      "pyTigerDriver                      1.0.15\r\n",
      "pyTigerGraph                       1.2.6\r\n",
      "pytz                               2021.3\r\n",
      "PyWavelets                         1.1.1\r\n",
      "PyYAML                             6.0\r\n",
      "pyzmq                              22.2.1\r\n",
      "QDarkStyle                         3.0.2\r\n",
      "qstylizer                          0.1.10\r\n",
      "QtAwesome                          1.0.2\r\n",
      "qtconsole                          5.1.1\r\n",
      "QtPy                               1.10.0\r\n",
      "regex                              2021.8.3\r\n",
      "requests                           2.26.0\r\n",
      "requests-oauthlib                  1.3.1\r\n",
      "rope                               0.19.0\r\n",
      "rsa                                4.9\r\n",
      "Rtree                              0.9.7\r\n",
      "ruamel-yaml-conda                  0.15.100\r\n",
      "scikit-image                       0.18.3\r\n",
      "scikit-learn                       0.24.2\r\n",
      "scikit-learn-intelex               2021.20210714.100439\r\n",
      "scipy                              1.7.1\r\n",
      "seaborn                            0.11.2\r\n",
      "Send2Trash                         1.8.0\r\n",
      "setuptools                         58.0.4\r\n",
      "simplegeneric                      0.8.1\r\n",
      "singledispatch                     3.7.0\r\n",
      "sip                                4.19.13\r\n",
      "six                                1.16.0\r\n",
      "sniffio                            1.2.0\r\n",
      "snowballstemmer                    2.1.0\r\n",
      "sortedcollections                  2.1.0\r\n",
      "sortedcontainers                   2.4.0\r\n",
      "soupsieve                          2.2.1\r\n",
      "Sphinx                             4.2.0\r\n",
      "sphinxcontrib-applehelp            1.0.2\r\n",
      "sphinxcontrib-devhelp              1.0.2\r\n",
      "sphinxcontrib-htmlhelp             2.0.0\r\n",
      "sphinxcontrib-jsmath               1.0.1\r\n",
      "sphinxcontrib-qthelp               1.0.3\r\n",
      "sphinxcontrib-serializinghtml      1.1.5\r\n",
      "sphinxcontrib-websupport           1.2.4\r\n",
      "spyder                             5.1.5\r\n",
      "spyder-kernels                     2.1.3\r\n",
      "SQLAlchemy                         1.4.22\r\n",
      "statsmodels                        0.12.2\r\n",
      "sympy                              1.9\r\n",
      "tables                             3.6.1\r\n",
      "TBB                                0.2\r\n",
      "tblib                              1.7.0\r\n",
      "tenacity                           8.1.0\r\n",
      "tensorboard                        2.11.0\r\n",
      "tensorboard-data-server            0.6.1\r\n",
      "tensorboard-plugin-wit             1.8.1\r\n",
      "tensorflow                         2.11.0\r\n",
      "tensorflow-estimator               2.11.0\r\n",
      "tensorflow-io-gcs-filesystem       0.28.0\r\n",
      "termcolor                          2.1.1\r\n",
      "terminado                          0.9.4\r\n",
      "testpath                           0.5.0\r\n",
      "text-unidecode                     1.3\r\n",
      "textdistance                       4.2.1\r\n",
      "threadpoolctl                      2.2.0\r\n",
      "three-merge                        0.1.1\r\n",
      "tifffile                           2021.7.2\r\n",
      "tinycss                            0.4\r\n",
      "tokenizers                         0.13.2\r\n",
      "toml                               0.10.2\r\n",
      "toolz                              0.11.1\r\n",
      "tornado                            6.1\r\n",
      "tqdm                               4.62.3\r\n",
      "traitlets                          5.1.0\r\n",
      "transformers                       4.25.1\r\n",
      "typed-ast                          1.4.3\r\n",
      "typing-extensions                  3.10.0.2\r\n",
      "ujson                              4.0.2\r\n",
      "unicodecsv                         0.14.1\r\n",
      "Unidecode                          1.2.0\r\n",
      "urllib3                            1.26.7\r\n",
      "validators                         0.20.0\r\n",
      "watchdog                           2.1.3\r\n",
      "wcwidth                            0.2.5\r\n",
      "webencodings                       0.5.1\r\n",
      "Werkzeug                           2.0.2\r\n",
      "wheel                              0.37.0\r\n",
      "whichcraft                         0.6.1\r\n",
      "widgetsnbextension                 3.5.1\r\n",
      "wordcloud                          1.8.2.2\r\n",
      "wrapt                              1.12.1\r\n",
      "wurlitzer                          2.1.1\r\n",
      "xlrd                               2.0.1\r\n",
      "XlsxWriter                         3.0.1\r\n",
      "xlwings                            0.24.9\r\n",
      "xlwt                               1.3.0\r\n",
      "xmltodict                          0.12.0\r\n",
      "yapf                               0.31.0\r\n",
      "zict                               2.0.0\r\n",
      "zipp                               3.6.0\r\n",
      "zope.event                         4.5.0\r\n",
      "zope.interface                     5.4.0\r\n"
     ]
    }
   ],
   "source": [
    "!pip list"
   ]
  },
  {
   "cell_type": "code",
   "execution_count": 4,
   "id": "ac799859",
   "metadata": {},
   "outputs": [
    {
     "name": "stdout",
     "output_type": "stream",
     "text": [
      "Requirement already satisfied: pyTigerGraph in ./opt/anaconda3/lib/python3.9/site-packages (1.2.6)\n",
      "Requirement already satisfied: validators in ./opt/anaconda3/lib/python3.9/site-packages (from pyTigerGraph) (0.20.0)\n",
      "Requirement already satisfied: requests in ./opt/anaconda3/lib/python3.9/site-packages (from pyTigerGraph) (2.26.0)\n",
      "Requirement already satisfied: pyTigerDriver in ./opt/anaconda3/lib/python3.9/site-packages (from pyTigerGraph) (1.0.15)\n",
      "Requirement already satisfied: urllib3<1.27,>=1.21.1 in ./opt/anaconda3/lib/python3.9/site-packages (from requests->pyTigerGraph) (1.26.7)\n",
      "Requirement already satisfied: idna<4,>=2.5 in ./opt/anaconda3/lib/python3.9/site-packages (from requests->pyTigerGraph) (3.2)\n",
      "Requirement already satisfied: certifi>=2017.4.17 in ./opt/anaconda3/lib/python3.9/site-packages (from requests->pyTigerGraph) (2021.10.8)\n",
      "Requirement already satisfied: charset-normalizer~=2.0.0 in ./opt/anaconda3/lib/python3.9/site-packages (from requests->pyTigerGraph) (2.0.4)\n",
      "Requirement already satisfied: decorator>=3.4.0 in ./opt/anaconda3/lib/python3.9/site-packages (from validators->pyTigerGraph) (5.1.0)\n",
      "Note: you may need to restart the kernel to use updated packages.\n"
     ]
    }
   ],
   "source": [
    "pip install pyTigerGraph"
   ]
  },
  {
   "cell_type": "code",
   "execution_count": 5,
   "id": "0b421505",
   "metadata": {},
   "outputs": [
    {
     "name": "stdout",
     "output_type": "stream",
     "text": [
      "Requirement already satisfied: pyTigerDriver in ./opt/anaconda3/lib/python3.9/site-packages (1.0.15)\n",
      "Note: you may need to restart the kernel to use updated packages.\n"
     ]
    }
   ],
   "source": [
    "pip install pyTigerDriver "
   ]
  },
  {
   "cell_type": "code",
   "execution_count": 6,
   "id": "6279927c",
   "metadata": {},
   "outputs": [
    {
     "name": "stdout",
     "output_type": "stream",
     "text": [
      "Found existing installation: pyTigerGraph 1.2.6\r\n",
      "Uninstalling pyTigerGraph-1.2.6:\r\n",
      "  Successfully uninstalled pyTigerGraph-1.2.6\r\n"
     ]
    }
   ],
   "source": [
    "!python -m pip uninstall pyTigerGraph --yes"
   ]
  },
  {
   "cell_type": "code",
   "execution_count": 7,
   "id": "a29b7ba5",
   "metadata": {},
   "outputs": [
    {
     "name": "stdout",
     "output_type": "stream",
     "text": [
      "Found existing installation: pyTigerDriver 1.0.15\r\n",
      "Uninstalling pyTigerDriver-1.0.15:\r\n",
      "  Successfully uninstalled pyTigerDriver-1.0.15\r\n"
     ]
    }
   ],
   "source": [
    "!python -m pip uninstall pyTigerDriver --yes"
   ]
  },
  {
   "cell_type": "code",
   "execution_count": 8,
   "id": "94c325e3",
   "metadata": {},
   "outputs": [
    {
     "name": "stdout",
     "output_type": "stream",
     "text": [
      "Collecting pyTigerGraph\n",
      "  Downloading pyTigerGraph-1.3-py3-none-any.whl (203 kB)\n",
      "\u001b[K     |████████████████████████████████| 203 kB 1.2 MB/s eta 0:00:01\n",
      "\u001b[?25hRequirement already satisfied: validators in ./opt/anaconda3/lib/python3.9/site-packages (from pyTigerGraph) (0.20.0)\n",
      "Requirement already satisfied: requests in ./opt/anaconda3/lib/python3.9/site-packages (from pyTigerGraph) (2.26.0)\n",
      "Collecting pyTigerDriver\n",
      "  Using cached pyTigerDriver-1.0.15-py3-none-any.whl (12 kB)\n",
      "Requirement already satisfied: idna<4,>=2.5 in ./opt/anaconda3/lib/python3.9/site-packages (from requests->pyTigerGraph) (3.2)\n",
      "Requirement already satisfied: charset-normalizer~=2.0.0 in ./opt/anaconda3/lib/python3.9/site-packages (from requests->pyTigerGraph) (2.0.4)\n",
      "Requirement already satisfied: certifi>=2017.4.17 in ./opt/anaconda3/lib/python3.9/site-packages (from requests->pyTigerGraph) (2021.10.8)\n",
      "Requirement already satisfied: urllib3<1.27,>=1.21.1 in ./opt/anaconda3/lib/python3.9/site-packages (from requests->pyTigerGraph) (1.26.7)\n",
      "Requirement already satisfied: decorator>=3.4.0 in ./opt/anaconda3/lib/python3.9/site-packages (from validators->pyTigerGraph) (5.1.0)\n",
      "Installing collected packages: pyTigerDriver, pyTigerGraph\n",
      "Successfully installed pyTigerDriver-1.0.15 pyTigerGraph-1.3\n"
     ]
    }
   ],
   "source": [
    "# FETCH PACKAGES\n",
    "\n",
    "!pip install pyTigerGraph"
   ]
  },
  {
   "cell_type": "code",
   "execution_count": null,
   "id": "aec037ea",
   "metadata": {},
   "outputs": [],
   "source": [
    "import pyTigerGraph as tg\n",
    "import json"
   ]
  },
  {
   "cell_type": "code",
   "execution_count": null,
   "id": "e7c5d779",
   "metadata": {},
   "outputs": [],
   "source": [
    "# Establish the initial connetion with Connection parameters\n",
    "\n",
    "hostName = \"https://86ed106bae1640d6b4937d55b6997e02.i.tgcloud.io\"\n",
    "graphName = \"UmbrellaAI2\"\n",
    "secret = \"idp021i4h3dbledu6me1rrvbv8ui21sl\"\n",
    "\n",
    "conn = tg.TigerGraphConnection(host=hostName, graphname=graphName, gsqlSecret=secret)\n",
    "\n",
    "#print(\"Connected\")"
   ]
  },
  {
   "cell_type": "code",
   "execution_count": 4,
   "id": "4f917b8f",
   "metadata": {},
   "outputs": [
    {
     "name": "stderr",
     "output_type": "stream",
     "text": [
      "/Users/mac/opt/anaconda3/lib/python3.9/site-packages/pyTigerGraph/pyTigerGraphBase.py:106: DeprecationWarning: The `apiToken` parameter is deprecated; use `getToken()` function instead.\n",
      "  warnings.warn(\n"
     ]
    }
   ],
   "source": [
    "secret = \"idp021i4h3dbledu6me1rrvbv8ui21sl\"\n",
    "\n",
    "#use the secret to get a token\n",
    "authToken = conn.getToken(secret)[0]\n",
    "\n",
    "#connect to graph with token\n",
    "conn = tg.TigerGraphConnection(host=hostName, graphname=graphName, gsqlSecret=secret, apiToken=authToken)"
   ]
  },
  {
   "cell_type": "markdown",
   "id": "35000a97",
   "metadata": {},
   "source": [
    "# DEFINE / CREATE ALL VERTICES"
   ]
  },
  {
   "cell_type": "code",
   "execution_count": 5,
   "id": "2504c2e2",
   "metadata": {},
   "outputs": [
    {
     "name": "stdout",
     "output_type": "stream",
     "text": [
      "Successfully created vertex types: [Patients].\n",
      "Successfully created vertex types: [Symptoms].\n",
      "Successfully created vertex types: [Disease].\n",
      "Successfully created vertex types: [Specialist].\n"
     ]
    }
   ],
   "source": [
    "results = conn.gsql('''\n",
    "    USE GLOBAL\n",
    "     CREATE VERTEX Patients(PRIMARY_ID id STRING, first_name STRING, last_name STRING, address STRING, age STRING, email STRING, gender STRING, phone STRING) WITH primary_id_as_attribute = \"true\"\n",
    "     CREATE VERTEX Symptoms(PRIMARY_ID id STRING, symptoms STRING) WITH primary_id_as_attribute = \"true\"\n",
    "     CREATE VERTEX Disease(PRIMARY_ID id STRING, disease STRING) WITH primary_id_as_attribute = \"true\"\n",
    "     CREATE VERTEX Specialist(PRIMARY_ID id STRING, specialist STRING) WITH primary_id_as_attribute = \"true\"\n",
    "''')\n",
    "\n",
    "print(results)"
   ]
  },
  {
   "cell_type": "markdown",
   "id": "559922ef",
   "metadata": {},
   "source": [
    "# DEFINE / CREATE ALL EDGES"
   ]
  },
  {
   "cell_type": "code",
   "execution_count": 6,
   "id": "6710a74f",
   "metadata": {},
   "outputs": [
    {
     "name": "stdout",
     "output_type": "stream",
     "text": [
      "Successfully created edge types: [patient_shows_on_symptom].\n",
      "Successfully created reverse edge types: [reverse_has_symptoms].\n",
      "Successfully created edge types: [symptom_shows_on_disease].\n",
      "Successfully created reverse edge types: [reverse_shows_on_disease].\n",
      "Successfully created edge types: [disease_refer_to_specialist].\n",
      "Successfully created reverse edge types: [reverse_refers_to_specialist].\n"
     ]
    }
   ],
   "source": [
    "results = conn.gsql('''\n",
    "    USE GLOBAL\n",
    "    CREATE DIRECTED EDGE patient_shows_on_symptom(FROM Patients, TO Symptoms)WITH REVERSE_EDGE=\"reverse_has_symptoms\"\n",
    "    CREATE DIRECTED EDGE symptom_shows_on_disease(FROM Symptoms, TO Disease)WITH REVERSE_EDGE=\"reverse_shows_on_disease\"\n",
    "    CREATE DIRECTED EDGE disease_refer_to_specialist(FROM Disease, TO Specialist)WITH REVERSE_EDGE=\"reverse_refers_to_specialist\"\n",
    "''')\n",
    "\n",
    "print(results)"
   ]
  },
  {
   "cell_type": "code",
   "execution_count": 7,
   "id": "d6b5ff8a",
   "metadata": {},
   "outputs": [],
   "source": [
    "# Create the Graph Schema\n",
    "\n",
    "results = conn.gsql('Create GRAPH Umbrella_AI(Patients, Symptoms, Disease, Specialist, patient_shows_on_symptom, symptom_shows_on_disease, disease_refer_to_specialist)')"
   ]
  },
  {
   "cell_type": "code",
   "execution_count": 8,
   "id": "cd4b59df",
   "metadata": {},
   "outputs": [
    {
     "name": "stdout",
     "output_type": "stream",
     "text": [
      "{\n",
      "  \"GraphName\": \"UmbrellaAI2\",\n",
      "  \"VertexTypes\": [],\n",
      "  \"EdgeTypes\": [],\n",
      "  \"UDTs\": []\n",
      "}\n"
     ]
    }
   ],
   "source": [
    "results = conn.getSchema()\n",
    "print(json.dumps(results, indent=2))"
   ]
  },
  {
   "cell_type": "code",
   "execution_count": 9,
   "id": "e832913c",
   "metadata": {},
   "outputs": [],
   "source": [
    "# SETUP TIGERGRAPH CONNECTION\n",
    "\n",
    "# graph = tg.TigerGraphConnection(host=hostName, graphname = graphName)\n",
    "#authToken = graph.getToken(secret)\n",
    "#authToken = authToken[0]\n",
    "#print(f\"This is the secret token:\\n {authToken}\")"
   ]
  },
  {
   "cell_type": "code",
   "execution_count": 10,
   "id": "faa3ee59",
   "metadata": {},
   "outputs": [
    {
     "name": "stdout",
     "output_type": "stream",
     "text": [
      "raenqapuejlskkn8b81932cq6bjs4qdk\n"
     ]
    }
   ],
   "source": [
    "print(authToken)"
   ]
  },
  {
   "cell_type": "code",
   "execution_count": 11,
   "id": "8b2db3d5",
   "metadata": {},
   "outputs": [],
   "source": [
    "#Import the files \n",
    "patient = pd.read_csv(\"~/Downloads/Umbrella AI/Practice Files/patient_vertex.csv\")\n",
    "symptoms = pd.read_csv(\"~/Downloads/Umbrella AI/Practice Files/symptom_vertex.csv\", sep=\",\")\n",
    "diseases = pd.read_csv(\"~/Downloads/Umbrella AI/Practice Files/Disease_vertex.csv\", sep=\",\")\n",
    "specialist = pd.read_csv(\"~/Downloads/Umbrella AI/Practice Files/specialist_vertex.csv\", sep=\",\")\n",
    "patient_shows_on_symptom = pd.read_csv(\"~/Downloads/Umbrella AI/Practice Files/patients_symptom_edge.csv\", sep=\",\")\n",
    "symptom_shows_on_disease = pd.read_csv(\"~/Downloads/Umbrella AI/Practice Files/symptom_disease_edge.csv\", sep=\",\")\n",
    "disease_refer_to_specialist = pd.read_csv(\"~/Downloads/Umbrella AI/Practice Files/diseases_specialist_edge.csv\", sep=\",\")"
   ]
  },
  {
   "cell_type": "code",
   "execution_count": 23,
   "id": "ce007316",
   "metadata": {},
   "outputs": [
    {
     "data": {
      "text/html": [
       "<div>\n",
       "<style scoped>\n",
       "    .dataframe tbody tr th:only-of-type {\n",
       "        vertical-align: middle;\n",
       "    }\n",
       "\n",
       "    .dataframe tbody tr th {\n",
       "        vertical-align: top;\n",
       "    }\n",
       "\n",
       "    .dataframe thead th {\n",
       "        text-align: right;\n",
       "    }\n",
       "</style>\n",
       "<table border=\"1\" class=\"dataframe\">\n",
       "  <thead>\n",
       "    <tr style=\"text-align: right;\">\n",
       "      <th></th>\n",
       "      <th>id</th>\n",
       "      <th>first_name</th>\n",
       "      <th>last_name</th>\n",
       "      <th>address</th>\n",
       "      <th>age</th>\n",
       "      <th>email</th>\n",
       "      <th>gender</th>\n",
       "      <th>phone</th>\n",
       "    </tr>\n",
       "  </thead>\n",
       "  <tbody>\n",
       "    <tr>\n",
       "      <th>0</th>\n",
       "      <td>1.0</td>\n",
       "      <td>Leia</td>\n",
       "      <td>Norris</td>\n",
       "      <td>6836 Johnston Ave Reevesville South Carolina(S...</td>\n",
       "      <td>29.0</td>\n",
       "      <td>leia.norris@hotmail.com</td>\n",
       "      <td>female</td>\n",
       "      <td>(843) 563-9685</td>\n",
       "    </tr>\n",
       "    <tr>\n",
       "      <th>1</th>\n",
       "      <td>2.0</td>\n",
       "      <td>Sadie</td>\n",
       "      <td>Johnson</td>\n",
       "      <td>151 Hilltop Rd Goldonna Louisiana(LA) 71031</td>\n",
       "      <td>43.0</td>\n",
       "      <td>sadie.johnson@gmail.com</td>\n",
       "      <td>female</td>\n",
       "      <td>(318) 727-4959</td>\n",
       "    </tr>\n",
       "    <tr>\n",
       "      <th>2</th>\n",
       "      <td>3.0</td>\n",
       "      <td>Jose</td>\n",
       "      <td>Newman</td>\n",
       "      <td>10562 Arleta Ave Mission Hills California(CA) ...</td>\n",
       "      <td>56.0</td>\n",
       "      <td>jose.newman@hotmail.com</td>\n",
       "      <td>male</td>\n",
       "      <td>(818) 897-3613</td>\n",
       "    </tr>\n",
       "    <tr>\n",
       "      <th>3</th>\n",
       "      <td>4.0</td>\n",
       "      <td>Liberty</td>\n",
       "      <td>Hart</td>\n",
       "      <td>884 Davis St #303 San Leandro California(CA) 9...</td>\n",
       "      <td>73.0</td>\n",
       "      <td>liberty96@hotmail.com</td>\n",
       "      <td>female</td>\n",
       "      <td>(510) 568-5566</td>\n",
       "    </tr>\n",
       "    <tr>\n",
       "      <th>4</th>\n",
       "      <td>5.0</td>\n",
       "      <td>Bella</td>\n",
       "      <td>Wong</td>\n",
       "      <td>2705 Big Buck Dr Lewiston Michigan(MI) 49756</td>\n",
       "      <td>28.0</td>\n",
       "      <td>bella.wong@gmail.com</td>\n",
       "      <td>female</td>\n",
       "      <td>(989) 786-4312</td>\n",
       "    </tr>\n",
       "  </tbody>\n",
       "</table>\n",
       "</div>"
      ],
      "text/plain": [
       "    id first_name last_name  \\\n",
       "0  1.0       Leia    Norris   \n",
       "1  2.0      Sadie   Johnson   \n",
       "2  3.0       Jose    Newman   \n",
       "3  4.0    Liberty      Hart   \n",
       "4  5.0      Bella      Wong   \n",
       "\n",
       "                                             address   age  \\\n",
       "0  6836 Johnston Ave Reevesville South Carolina(S...  29.0   \n",
       "1        151 Hilltop Rd Goldonna Louisiana(LA) 71031  43.0   \n",
       "2  10562 Arleta Ave Mission Hills California(CA) ...  56.0   \n",
       "3  884 Davis St #303 San Leandro California(CA) 9...  73.0   \n",
       "4       2705 Big Buck Dr Lewiston Michigan(MI) 49756  28.0   \n",
       "\n",
       "                     email  gender           phone  \n",
       "0  leia.norris@hotmail.com  female  (843) 563-9685  \n",
       "1  sadie.johnson@gmail.com  female  (318) 727-4959  \n",
       "2  jose.newman@hotmail.com    male  (818) 897-3613  \n",
       "3    liberty96@hotmail.com  female  (510) 568-5566  \n",
       "4     bella.wong@gmail.com  female  (989) 786-4312  "
      ]
     },
     "execution_count": 23,
     "metadata": {},
     "output_type": "execute_result"
    }
   ],
   "source": [
    "patient.head()"
   ]
  },
  {
   "cell_type": "code",
   "execution_count": 24,
   "id": "c16067c9",
   "metadata": {},
   "outputs": [
    {
     "data": {
      "text/html": [
       "<div>\n",
       "<style scoped>\n",
       "    .dataframe tbody tr th:only-of-type {\n",
       "        vertical-align: middle;\n",
       "    }\n",
       "\n",
       "    .dataframe tbody tr th {\n",
       "        vertical-align: top;\n",
       "    }\n",
       "\n",
       "    .dataframe thead th {\n",
       "        text-align: right;\n",
       "    }\n",
       "</style>\n",
       "<table border=\"1\" class=\"dataframe\">\n",
       "  <thead>\n",
       "    <tr style=\"text-align: right;\">\n",
       "      <th></th>\n",
       "      <th>id</th>\n",
       "      <th>symptom</th>\n",
       "    </tr>\n",
       "  </thead>\n",
       "  <tbody>\n",
       "    <tr>\n",
       "      <th>0</th>\n",
       "      <td>1</td>\n",
       "      <td>pain with touching the affected area</td>\n",
       "    </tr>\n",
       "    <tr>\n",
       "      <th>1</th>\n",
       "      <td>2</td>\n",
       "      <td>redo tasks because they aren't perfect the fir...</td>\n",
       "    </tr>\n",
       "    <tr>\n",
       "      <th>2</th>\n",
       "      <td>3</td>\n",
       "      <td>eating until you're uncomfortably full</td>\n",
       "    </tr>\n",
       "    <tr>\n",
       "      <th>3</th>\n",
       "      <td>4</td>\n",
       "      <td>a dirty white, greenish or black nipple discha...</td>\n",
       "    </tr>\n",
       "    <tr>\n",
       "      <th>4</th>\n",
       "      <td>5</td>\n",
       "      <td>losing weight without trying</td>\n",
       "    </tr>\n",
       "  </tbody>\n",
       "</table>\n",
       "</div>"
      ],
      "text/plain": [
       "   id                                            symptom\n",
       "0   1               pain with touching the affected area\n",
       "1   2  redo tasks because they aren't perfect the fir...\n",
       "2   3             eating until you're uncomfortably full\n",
       "3   4  a dirty white, greenish or black nipple discha...\n",
       "4   5                       losing weight without trying"
      ]
     },
     "execution_count": 24,
     "metadata": {},
     "output_type": "execute_result"
    }
   ],
   "source": [
    "symptoms.head()"
   ]
  },
  {
   "cell_type": "code",
   "execution_count": 25,
   "id": "e05666cd",
   "metadata": {},
   "outputs": [
    {
     "data": {
      "text/html": [
       "<div>\n",
       "<style scoped>\n",
       "    .dataframe tbody tr th:only-of-type {\n",
       "        vertical-align: middle;\n",
       "    }\n",
       "\n",
       "    .dataframe tbody tr th {\n",
       "        vertical-align: top;\n",
       "    }\n",
       "\n",
       "    .dataframe thead th {\n",
       "        text-align: right;\n",
       "    }\n",
       "</style>\n",
       "<table border=\"1\" class=\"dataframe\">\n",
       "  <thead>\n",
       "    <tr style=\"text-align: right;\">\n",
       "      <th></th>\n",
       "      <th>id</th>\n",
       "      <th>disease</th>\n",
       "    </tr>\n",
       "  </thead>\n",
       "  <tbody>\n",
       "    <tr>\n",
       "      <th>0</th>\n",
       "      <td>1</td>\n",
       "      <td>hypertensive disease</td>\n",
       "    </tr>\n",
       "    <tr>\n",
       "      <th>1</th>\n",
       "      <td>2</td>\n",
       "      <td>diabetes</td>\n",
       "    </tr>\n",
       "    <tr>\n",
       "      <th>2</th>\n",
       "      <td>3</td>\n",
       "      <td>depression mental</td>\n",
       "    </tr>\n",
       "    <tr>\n",
       "      <th>3</th>\n",
       "      <td>4</td>\n",
       "      <td>depressive disorder</td>\n",
       "    </tr>\n",
       "    <tr>\n",
       "      <th>4</th>\n",
       "      <td>5</td>\n",
       "      <td>coronary arteriosclerosis</td>\n",
       "    </tr>\n",
       "  </tbody>\n",
       "</table>\n",
       "</div>"
      ],
      "text/plain": [
       "   id                    disease\n",
       "0   1       hypertensive disease\n",
       "1   2                   diabetes\n",
       "2   3          depression mental\n",
       "3   4        depressive disorder\n",
       "4   5  coronary arteriosclerosis"
      ]
     },
     "execution_count": 25,
     "metadata": {},
     "output_type": "execute_result"
    }
   ],
   "source": [
    "diseases.head()"
   ]
  },
  {
   "cell_type": "code",
   "execution_count": 26,
   "id": "ea114d14",
   "metadata": {},
   "outputs": [
    {
     "data": {
      "text/html": [
       "<div>\n",
       "<style scoped>\n",
       "    .dataframe tbody tr th:only-of-type {\n",
       "        vertical-align: middle;\n",
       "    }\n",
       "\n",
       "    .dataframe tbody tr th {\n",
       "        vertical-align: top;\n",
       "    }\n",
       "\n",
       "    .dataframe thead th {\n",
       "        text-align: right;\n",
       "    }\n",
       "</style>\n",
       "<table border=\"1\" class=\"dataframe\">\n",
       "  <thead>\n",
       "    <tr style=\"text-align: right;\">\n",
       "      <th></th>\n",
       "      <th>id</th>\n",
       "      <th>specialist</th>\n",
       "    </tr>\n",
       "  </thead>\n",
       "  <tbody>\n",
       "    <tr>\n",
       "      <th>0</th>\n",
       "      <td>1</td>\n",
       "      <td>Nutritionist</td>\n",
       "    </tr>\n",
       "    <tr>\n",
       "      <th>1</th>\n",
       "      <td>2</td>\n",
       "      <td>Neuropathologist</td>\n",
       "    </tr>\n",
       "    <tr>\n",
       "      <th>2</th>\n",
       "      <td>3</td>\n",
       "      <td>ENT specialist</td>\n",
       "    </tr>\n",
       "    <tr>\n",
       "      <th>3</th>\n",
       "      <td>4</td>\n",
       "      <td>PM&amp;R Physician</td>\n",
       "    </tr>\n",
       "    <tr>\n",
       "      <th>4</th>\n",
       "      <td>5</td>\n",
       "      <td>Radiation Oncology Medical Physicist</td>\n",
       "    </tr>\n",
       "  </tbody>\n",
       "</table>\n",
       "</div>"
      ],
      "text/plain": [
       "   id                            specialist\n",
       "0   1                          Nutritionist\n",
       "1   2                      Neuropathologist\n",
       "2   3                        ENT specialist\n",
       "3   4                        PM&R Physician\n",
       "4   5  Radiation Oncology Medical Physicist"
      ]
     },
     "execution_count": 26,
     "metadata": {},
     "output_type": "execute_result"
    }
   ],
   "source": [
    "specialist.head()"
   ]
  },
  {
   "cell_type": "code",
   "execution_count": 39,
   "id": "daad6c99",
   "metadata": {},
   "outputs": [
    {
     "data": {
      "text/html": [
       "<div>\n",
       "<style scoped>\n",
       "    .dataframe tbody tr th:only-of-type {\n",
       "        vertical-align: middle;\n",
       "    }\n",
       "\n",
       "    .dataframe tbody tr th {\n",
       "        vertical-align: top;\n",
       "    }\n",
       "\n",
       "    .dataframe thead th {\n",
       "        text-align: right;\n",
       "    }\n",
       "</style>\n",
       "<table border=\"1\" class=\"dataframe\">\n",
       "  <thead>\n",
       "    <tr style=\"text-align: right;\">\n",
       "      <th></th>\n",
       "      <th>disease_id</th>\n",
       "      <th>disease_name</th>\n",
       "      <th>symptom_id</th>\n",
       "      <th>symptom_name</th>\n",
       "    </tr>\n",
       "  </thead>\n",
       "  <tbody>\n",
       "    <tr>\n",
       "      <th>0</th>\n",
       "      <td>1</td>\n",
       "      <td>['hypertensive disease']</td>\n",
       "      <td>951</td>\n",
       "      <td>['pain chest']</td>\n",
       "    </tr>\n",
       "    <tr>\n",
       "      <th>1</th>\n",
       "      <td>1</td>\n",
       "      <td>['hypertensive disease']</td>\n",
       "      <td>880</td>\n",
       "      <td>['shortness of breath']</td>\n",
       "    </tr>\n",
       "    <tr>\n",
       "      <th>2</th>\n",
       "      <td>1</td>\n",
       "      <td>['hypertensive disease']</td>\n",
       "      <td>4583</td>\n",
       "      <td>['dizziness']</td>\n",
       "    </tr>\n",
       "    <tr>\n",
       "      <th>3</th>\n",
       "      <td>1</td>\n",
       "      <td>['hypertensive disease']</td>\n",
       "      <td>4668</td>\n",
       "      <td>['asthenia']</td>\n",
       "    </tr>\n",
       "    <tr>\n",
       "      <th>4</th>\n",
       "      <td>1</td>\n",
       "      <td>['hypertensive disease']</td>\n",
       "      <td>4260</td>\n",
       "      <td>['fall']</td>\n",
       "    </tr>\n",
       "  </tbody>\n",
       "</table>\n",
       "</div>"
      ],
      "text/plain": [
       "   disease_id              disease_name  symptom_id             symptom_name\n",
       "0           1  ['hypertensive disease']         951           ['pain chest']\n",
       "1           1  ['hypertensive disease']         880  ['shortness of breath']\n",
       "2           1  ['hypertensive disease']        4583            ['dizziness']\n",
       "3           1  ['hypertensive disease']        4668             ['asthenia']\n",
       "4           1  ['hypertensive disease']        4260                 ['fall']"
      ]
     },
     "execution_count": 39,
     "metadata": {},
     "output_type": "execute_result"
    }
   ],
   "source": [
    "symptom_shows_on_disease.head()"
   ]
  },
  {
   "cell_type": "markdown",
   "id": "412645e9",
   "metadata": {},
   "source": [
    "# Creating a loading job for all Vertex"
   ]
  },
  {
   "cell_type": "code",
   "execution_count": 15,
   "id": "0c78c608",
   "metadata": {},
   "outputs": [
    {
     "name": "stdout",
     "output_type": "stream",
     "text": [
      "Using graph 'UmbrellaAI2'\n",
      "Successfully created loading jobs: [load_vertex].\n"
     ]
    }
   ],
   "source": [
    "results = conn.gsql('''\n",
    "    USE GRAPH UmbrellaAI2\n",
    "    CREATE LOADING JOB load_vertex FOR GRAPH UmbrellaAI2 {\n",
    "    DEFINE FILENAME PatientDataSource;\n",
    "    DEFINE FILENAME SymptomsDataSource;\n",
    "    DEFINE FILENAME DiseasesDataSource;\n",
    "    DEFINE FILENAME SpecialistsDataSource;\n",
    "    LOAD PatientDataSource TO VERTEX Patients VALUES ($0, $1, $2, $3, $4, $5, $6, $7) USING SEPARATOR=\",\", HEADER=\"true\", EOL=\"\\n\", QUOTE=\"double\";\n",
    "    LOAD SymptomsDataSource TO VERTEX Symptoms VALUES ($0, $1) USING SEPARATOR=\",\", HEADER=\"true\", EOL=\"\\n\", QUOTE=\"double\";\n",
    "    LOAD DiseasesDataSource TO VERTEX Disease VALUES ($0, $1) USING SEPARATOR=\",\", HEADER=\"true\", EOL=\"\\n\", QUOTE=\"double\";\n",
    "    LOAD SpecialistsDataSource TO VERTEX Specialist VALUES ($0, $1) USING SEPARATOR=\",\", HEADER=\"true\", EOL=\"\\n\", QUOTE=\"double\";\n",
    "    }\n",
    "''')\n",
    "print(results)"
   ]
  },
  {
   "cell_type": "code",
   "execution_count": 37,
   "id": "327b91db",
   "metadata": {},
   "outputs": [
    {
     "name": "stdout",
     "output_type": "stream",
     "text": [
      "[\n",
      "  {\n",
      "    \"sourceFileName\": \"Online_POST\",\n",
      "    \"statistics\": {\n",
      "      \"sourceFileName\": \"Online_POST\",\n",
      "      \"parsingStatistics\": {\n",
      "        \"fileLevel\": {\n",
      "          \"validLine\": 221\n",
      "        },\n",
      "        \"objectLevel\": {\n",
      "          \"vertex\": [\n",
      "            {\n",
      "              \"typeName\": \"Patients\",\n",
      "              \"validObject\": 201,\n",
      "              \"noIdFound\": {\n",
      "                \"count\": 20,\n",
      "                \"sample\": {\n",
      "                  \"line\": 202,\n",
      "                  \"lineData\": \",,,,,,,\\r\\n\"\n",
      "                }\n",
      "              }\n",
      "            }\n",
      "          ],\n",
      "          \"edge\": [],\n",
      "          \"deleteVertex\": [],\n",
      "          \"deleteEdge\": []\n",
      "        }\n",
      "      }\n",
      "    }\n",
      "  }\n",
      "]\n"
     ]
    }
   ],
   "source": [
    "# Loading the patient data file with the 'load_patients' job\n",
    "patients_file = '/Users/mac/Downloads/Umbrella AI/Practice Files/patient_vertex.csv'\n",
    "load_patients = conn.uploadFile(patients_file, fileTag = 'PatientDataSource', jobName = 'load_vertex')\n",
    "print(json.dumps(load_patients, indent = 2))"
   ]
  },
  {
   "cell_type": "code",
   "execution_count": 38,
   "id": "50bc9e3b",
   "metadata": {},
   "outputs": [
    {
     "name": "stdout",
     "output_type": "stream",
     "text": [
      "[\n",
      "  {\n",
      "    \"sourceFileName\": \"Online_POST\",\n",
      "    \"statistics\": {\n",
      "      \"sourceFileName\": \"Online_POST\",\n",
      "      \"parsingStatistics\": {\n",
      "        \"fileLevel\": {\n",
      "          \"validLine\": 5981\n",
      "        },\n",
      "        \"objectLevel\": {\n",
      "          \"vertex\": [\n",
      "            {\n",
      "              \"typeName\": \"Symptoms\",\n",
      "              \"validObject\": 5981\n",
      "            }\n",
      "          ],\n",
      "          \"edge\": [],\n",
      "          \"deleteVertex\": [],\n",
      "          \"deleteEdge\": []\n",
      "        }\n",
      "      }\n",
      "    }\n",
      "  }\n",
      "]\n"
     ]
    }
   ],
   "source": [
    "# Loading the symptoms data file with the 'load_symptoms' job\n",
    "symptoms_file = '/Users/mac/Downloads/Umbrella AI/Practice Files/symptom_vertex.csv'\n",
    "symptoms_loading = conn.runLoadingJobWithFile(symptoms_file,fileTag = 'SymptomsDataSource', jobName = 'load_vertex')\n",
    "print(json.dumps(symptoms_loading, indent = 2))"
   ]
  },
  {
   "cell_type": "code",
   "execution_count": 39,
   "id": "d4540757",
   "metadata": {},
   "outputs": [
    {
     "name": "stdout",
     "output_type": "stream",
     "text": [
      "[\n",
      "  {\n",
      "    \"sourceFileName\": \"Online_POST\",\n",
      "    \"statistics\": {\n",
      "      \"sourceFileName\": \"Online_POST\",\n",
      "      \"parsingStatistics\": {\n",
      "        \"fileLevel\": {\n",
      "          \"validLine\": 1674\n",
      "        },\n",
      "        \"objectLevel\": {\n",
      "          \"vertex\": [\n",
      "            {\n",
      "              \"typeName\": \"Disease\",\n",
      "              \"validObject\": 1674\n",
      "            }\n",
      "          ],\n",
      "          \"edge\": [],\n",
      "          \"deleteVertex\": [],\n",
      "          \"deleteEdge\": []\n",
      "        }\n",
      "      }\n",
      "    }\n",
      "  }\n",
      "]\n"
     ]
    }
   ],
   "source": [
    "# Loading the diseases data file with the 'load_diseases' job\n",
    "diseases_file = '/Users/mac/Downloads/Umbrella AI/Practice Files/Disease_vertex.csv'\n",
    "results = conn.uploadFile(diseases_file, fileTag = 'DiseasesDataSource', jobName = 'load_vertex')\n",
    "print(json.dumps(results, indent = 2))"
   ]
  },
  {
   "cell_type": "code",
   "execution_count": 40,
   "id": "21c61802",
   "metadata": {},
   "outputs": [
    {
     "name": "stdout",
     "output_type": "stream",
     "text": [
      "[\n",
      "  {\n",
      "    \"sourceFileName\": \"Online_POST\",\n",
      "    \"statistics\": {\n",
      "      \"sourceFileName\": \"Online_POST\",\n",
      "      \"parsingStatistics\": {\n",
      "        \"fileLevel\": {\n",
      "          \"validLine\": 170\n",
      "        },\n",
      "        \"objectLevel\": {\n",
      "          \"vertex\": [\n",
      "            {\n",
      "              \"typeName\": \"Specialist\",\n",
      "              \"validObject\": 170\n",
      "            }\n",
      "          ],\n",
      "          \"edge\": [],\n",
      "          \"deleteVertex\": [],\n",
      "          \"deleteEdge\": []\n",
      "        }\n",
      "      }\n",
      "    }\n",
      "  }\n",
      "]\n"
     ]
    }
   ],
   "source": [
    "#Loading the specialists data file with the 'load_specialists' job\n",
    "\n",
    "specialist_file = '/Users/mac/Downloads/Umbrella AI/Practice Files/specialist_vertex.csv'\n",
    "results = conn.uploadFile(specialist_file, fileTag = 'SpecialistsDataSource', jobName = 'load_vertex')\n",
    "print(json.dumps(results, indent = 2))"
   ]
  },
  {
   "cell_type": "markdown",
   "id": "81f43054",
   "metadata": {},
   "source": [
    "# Creating a loading job for Diseases - all Edge"
   ]
  },
  {
   "cell_type": "code",
   "execution_count": 20,
   "id": "11c5d854",
   "metadata": {},
   "outputs": [
    {
     "name": "stdout",
     "output_type": "stream",
     "text": [
      "Using graph 'UmbrellaAI2'\n",
      "Successfully created loading jobs: [load_edge].\n"
     ]
    }
   ],
   "source": [
    "results = conn.gsql('''\n",
    "    USE GRAPH UmbrellaAI2\n",
    "    CREATE LOADING JOB load_edge FOR GRAPH UmbrellaAI2 {\n",
    "    DEFINE FILENAME Patient_to_SymptomsDataSource;\n",
    "    DEFINE FILENAME Symptoms_to_DiseasesDataSource;\n",
    "    DEFINE FILENAME Diseases_to_SpecialistsDataSource;\n",
    "    LOAD Patient_to_SymptomsDataSource TO EDGE patient_shows_on_symptom VALUES ($0, $1) USING SEPARATOR=\",\", HEADER=\"true\", EOL=\"\\n\", QUOTE=\"double\";\n",
    "    LOAD Symptoms_to_DiseasesDataSource TO EDGE symptom_shows_on_disease VALUES ($2, $0) USING SEPARATOR=\",\", HEADER=\"true\", EOL=\"\\n\", QUOTE=\"double\";\n",
    "    LOAD Diseases_to_SpecialistsDataSource TO EDGE disease_refer_to_specialist VALUES ($0, $2) USING SEPARATOR=\",\", HEADER=\"true\", EOL=\"\\n\", QUOTE=\"double\";\n",
    "    }\n",
    "''')\n",
    "print(results)"
   ]
  },
  {
   "cell_type": "code",
   "execution_count": 41,
   "id": "471d2c7f",
   "metadata": {},
   "outputs": [
    {
     "name": "stdout",
     "output_type": "stream",
     "text": [
      "[\n",
      "  {\n",
      "    \"sourceFileName\": \"Online_POST\",\n",
      "    \"statistics\": {\n",
      "      \"sourceFileName\": \"Online_POST\",\n",
      "      \"parsingStatistics\": {\n",
      "        \"fileLevel\": {\n",
      "          \"validLine\": 18658\n",
      "        },\n",
      "        \"objectLevel\": {\n",
      "          \"vertex\": [],\n",
      "          \"edge\": [\n",
      "            {\n",
      "              \"typeName\": \"patient_shows_on_symptom\",\n",
      "              \"validObject\": 18658\n",
      "            }\n",
      "          ],\n",
      "          \"deleteVertex\": [],\n",
      "          \"deleteEdge\": []\n",
      "        }\n",
      "      }\n",
      "    }\n",
      "  }\n",
      "]\n"
     ]
    }
   ],
   "source": [
    "# Loading the patients_to_symptoms data file with the 'load_patient_shows_on_symptom' job\n",
    "patient_shows_on_symptom_file = '/Users/mac/Downloads/Umbrella AI/Practice Files/patients_symptom_edge.csv'\n",
    "results = conn.uploadFile(patient_shows_on_symptom_file, fileTag = 'Patient_to_SymptomsDataSource', jobName = 'load_edge')\n",
    "print(json.dumps(results, indent = 2))"
   ]
  },
  {
   "cell_type": "code",
   "execution_count": 42,
   "id": "a4352417",
   "metadata": {},
   "outputs": [
    {
     "name": "stdout",
     "output_type": "stream",
     "text": [
      "[\n",
      "  {\n",
      "    \"sourceFileName\": \"Online_POST\",\n",
      "    \"statistics\": {\n",
      "      \"sourceFileName\": \"Online_POST\",\n",
      "      \"parsingStatistics\": {\n",
      "        \"fileLevel\": {\n",
      "          \"validLine\": 18658\n",
      "        },\n",
      "        \"objectLevel\": {\n",
      "          \"vertex\": [],\n",
      "          \"edge\": [\n",
      "            {\n",
      "              \"typeName\": \"symptom_shows_on_disease\",\n",
      "              \"validObject\": 18658\n",
      "            }\n",
      "          ],\n",
      "          \"deleteVertex\": [],\n",
      "          \"deleteEdge\": []\n",
      "        }\n",
      "      }\n",
      "    }\n",
      "  }\n",
      "]\n"
     ]
    }
   ],
   "source": [
    "# Loading the symptom_shows_on_disease data file with the 'load_patient_shows_on_symptom' job\n",
    "\n",
    "symptom_shows_on_disease_file = '/Users/mac/Downloads/Umbrella AI/Practice Files/symptom_disease_edge.csv'\n",
    "results = conn.uploadFile(symptom_shows_on_disease_file, fileTag = 'Symptoms_to_DiseasesDataSource', jobName = 'load_edge')\n",
    "print(json.dumps(results, indent = 2))"
   ]
  },
  {
   "cell_type": "code",
   "execution_count": 43,
   "id": "505fdf5f",
   "metadata": {},
   "outputs": [
    {
     "name": "stdout",
     "output_type": "stream",
     "text": [
      "[\n",
      "  {\n",
      "    \"sourceFileName\": \"Online_POST\",\n",
      "    \"statistics\": {\n",
      "      \"sourceFileName\": \"Online_POST\",\n",
      "      \"parsingStatistics\": {\n",
      "        \"fileLevel\": {\n",
      "          \"validLine\": 3750\n",
      "        },\n",
      "        \"objectLevel\": {\n",
      "          \"vertex\": [],\n",
      "          \"edge\": [\n",
      "            {\n",
      "              \"typeName\": \"disease_refer_to_specialist\",\n",
      "              \"validObject\": 3750\n",
      "            }\n",
      "          ],\n",
      "          \"deleteVertex\": [],\n",
      "          \"deleteEdge\": []\n",
      "        }\n",
      "      }\n",
      "    }\n",
      "  }\n",
      "]\n"
     ]
    }
   ],
   "source": [
    "# Loading the disease_refer_to_specialist data file with the 'load_patient_shows_on_symptom' job\n",
    "\n",
    "disease_refer_to_specialist_file = '/Users/mac/Downloads/Umbrella AI/Practice Files/diseases_specialist_edge.csv'\n",
    "results = conn.uploadFile(disease_refer_to_specialist_file, fileTag = 'Diseases_to_SpecialistsDataSource', jobName = 'load_edge')\n",
    "print(json.dumps(results, indent = 2))"
   ]
  },
  {
   "cell_type": "code",
   "execution_count": 44,
   "id": "38ae5980",
   "metadata": {},
   "outputs": [
    {
     "name": "stdout",
     "output_type": "stream",
     "text": [
      "Verticiees: []\n",
      "Edges: []\n"
     ]
    }
   ],
   "source": [
    "# Exploring thee Graph\n",
    "\n",
    "# Get Vertex and Edge Schema\n",
    "\n",
    "\n",
    "results = conn.getVertexTypes()\n",
    "print(f\"Verticiees: {results}\")\n",
    "vertices = results\n",
    "\n",
    "results = conn.getEdgeTypes()\n",
    "print(f\"Edges: {results}\")\n",
    "edges = results"
   ]
  },
  {
   "cell_type": "code",
   "execution_count": 35,
   "id": "5b23503b",
   "metadata": {},
   "outputs": [
    {
     "name": "stdout",
     "output_type": "stream",
     "text": [
      "Vertex Counts\n",
      "---------------\n",
      "Edge Counts\n"
     ]
    }
   ],
   "source": [
    "print(\"Vertex Counts\")\n",
    "for vertex in vertices:\n",
    "    print(f\"There are {conn.getVertexCount(vertex)} {vertex} vertices in the graph\")\n",
    "    \n",
    "print(\"---------------\")\n",
    "print(\"Edge Counts\")\n",
    "for edge in edges:\n",
    "    print(f\"There are {conn.getEdgeCount(edge)} {edge} vertices in the graph\")"
   ]
  },
  {
   "cell_type": "code",
   "execution_count": 64,
   "id": "aefc1a8b",
   "metadata": {},
   "outputs": [
    {
     "data": {
      "text/plain": [
       "220"
      ]
     },
     "execution_count": 64,
     "metadata": {},
     "output_type": "execute_result"
    }
   ],
   "source": [
    "len(patient)"
   ]
  },
  {
   "cell_type": "code",
   "execution_count": 61,
   "id": "b488ba14",
   "metadata": {},
   "outputs": [
    {
     "data": {
      "text/plain": [
       "5980"
      ]
     },
     "execution_count": 61,
     "metadata": {},
     "output_type": "execute_result"
    }
   ],
   "source": [
    "len(symptoms)"
   ]
  },
  {
   "cell_type": "code",
   "execution_count": 66,
   "id": "b57350fa",
   "metadata": {},
   "outputs": [
    {
     "data": {
      "text/plain": [
       "1673"
      ]
     },
     "execution_count": 66,
     "metadata": {},
     "output_type": "execute_result"
    }
   ],
   "source": [
    "len(diseases)"
   ]
  },
  {
   "cell_type": "code",
   "execution_count": 67,
   "id": "2e4b5d5b",
   "metadata": {},
   "outputs": [
    {
     "data": {
      "text/plain": [
       "169"
      ]
     },
     "execution_count": 67,
     "metadata": {},
     "output_type": "execute_result"
    }
   ],
   "source": [
    "len(specialist)"
   ]
  },
  {
   "cell_type": "code",
   "execution_count": 10,
   "id": "f14450ea",
   "metadata": {},
   "outputs": [
    {
     "data": {
      "text/plain": [
       "18657"
      ]
     },
     "execution_count": 10,
     "metadata": {},
     "output_type": "execute_result"
    }
   ],
   "source": [
    "len(patient_shows_on_symptom)"
   ]
  },
  {
   "cell_type": "code",
   "execution_count": 11,
   "id": "d992a71c",
   "metadata": {},
   "outputs": [
    {
     "data": {
      "text/plain": [
       "18657"
      ]
     },
     "execution_count": 11,
     "metadata": {},
     "output_type": "execute_result"
    }
   ],
   "source": [
    "len(symptom_shows_on_disease)"
   ]
  },
  {
   "cell_type": "code",
   "execution_count": 12,
   "id": "cd496c5e",
   "metadata": {},
   "outputs": [
    {
     "data": {
      "text/plain": [
       "3749"
      ]
     },
     "execution_count": 12,
     "metadata": {},
     "output_type": "execute_result"
    }
   ],
   "source": [
    "len(disease_refer_to_specialist)"
   ]
  },
  {
   "cell_type": "code",
   "execution_count": null,
   "id": "eb0226da",
   "metadata": {},
   "outputs": [],
   "source": []
  },
  {
   "cell_type": "markdown",
   "id": "8a5df1ab",
   "metadata": {},
   "source": [
    "# TabPy: Connect with Tableau"
   ]
  },
  {
   "cell_type": "code",
   "execution_count": 5,
   "id": "d7bd12ea",
   "metadata": {},
   "outputs": [
    {
     "data": {
      "text/plain": [
       "[8888, 8888]"
      ]
     },
     "execution_count": 5,
     "metadata": {},
     "output_type": "execute_result"
    }
   ],
   "source": [
    "from notebook import notebookapp\n",
    "port_list = [note[\"port\"] for note in notebookapp.list_running_servers()]\n",
    "port_list"
   ]
  },
  {
   "cell_type": "code",
   "execution_count": 12,
   "id": "33355c39",
   "metadata": {},
   "outputs": [
    {
     "name": "stdout",
     "output_type": "stream",
     "text": [
      "Requirement already satisfied: virtualenv in ./opt/anaconda3/lib/python3.9/site-packages (20.20.0)\n",
      "Requirement already satisfied: platformdirs<4,>=2.4 in ./opt/anaconda3/lib/python3.9/site-packages (from virtualenv) (3.1.0)\n",
      "Requirement already satisfied: distlib<1,>=0.3.6 in ./opt/anaconda3/lib/python3.9/site-packages (from virtualenv) (0.3.6)\n",
      "Requirement already satisfied: filelock<4,>=3.4.1 in ./opt/anaconda3/lib/python3.9/site-packages (from virtualenv) (3.9.0)\n",
      "Note: you may need to restart the kernel to use updated packages.\n"
     ]
    }
   ],
   "source": [
    "pip install virtualenv "
   ]
  },
  {
   "cell_type": "code",
   "execution_count": 2,
   "id": "905945ec",
   "metadata": {},
   "outputs": [],
   "source": [
    "import virtualenv"
   ]
  },
  {
   "cell_type": "code",
   "execution_count": 45,
   "id": "eef62a3d",
   "metadata": {},
   "outputs": [],
   "source": [
    "def encode(input):     \n",
    "  le = preproces2ing.LabelEncoder()\n",
    "  return pd.DataFrame({\n",
    "    'Opportunity Number' : input['Opportunity Number'],\n",
    "    'Supplies Subgroup Encoded' : le.fit_transform(input['Supplies Subgroup']),\n",
    "    'Region Encoded' : le.fit_transform(input['Region']),\n",
    "    'Route To Market Encoded' : le.fit_transform(input['Route To Market']),\n",
    "    'Opportunity Result Encoded' : le.fit_transform(input['Opportunity Result']),\n",
    "    'Competitor Type Encoded' : le.fit_transform(input['Competitor Type']),\n",
    "    'Supplies Group Encoded' : le.fit_transform(input['Supplies Group']),\n",
    "})"
   ]
  },
  {
   "cell_type": "code",
   "execution_count": null,
   "id": "09e9cec5",
   "metadata": {},
   "outputs": [],
   "source": []
  }
 ],
 "metadata": {
  "kernelspec": {
   "display_name": "Python 3 (ipykernel)",
   "language": "python",
   "name": "python3"
  },
  "language_info": {
   "codemirror_mode": {
    "name": "ipython",
    "version": 3
   },
   "file_extension": ".py",
   "mimetype": "text/x-python",
   "name": "python",
   "nbconvert_exporter": "python",
   "pygments_lexer": "ipython3",
   "version": "3.9.7"
  }
 },
 "nbformat": 4,
 "nbformat_minor": 5
}
